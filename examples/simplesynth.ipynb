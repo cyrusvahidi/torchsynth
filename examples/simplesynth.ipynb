{
 "cells": [
  {
   "cell_type": "markdown",
   "metadata": {},
   "source": [
    "## Creating a simple synth\n",
    "\n",
    "In this example we'll create a new synthesizer using\n",
    "torchsynth SynthModules. Synths in torchsynth are created using\n",
    "an approach inspired by modular synthesizers that involves interconnecting individual\n",
    "modules. We'll create a simple single oscillator synth with an\n",
    "attack-decay-sustain-release (ADSR) envelope controlling\n",
    "the amplitude. More complicated architectures can be created\n",
    "using the same ideas!"
   ]
  },
  {
   "cell_type": "code",
   "execution_count": null,
   "metadata": {},
   "outputs": [],
   "source": [
    "# Just some fiddly stuff to determine if you're in colab or jupyter.\n",
    "# Also, if you don't have torchsynth installed, let's install it\n",
    "\n",
    "try:\n",
    "    import torchsynth\n",
    "except:\n",
    "    import os\n",
    "    os.system(\"pip3 install torchsynth\")\n",
    "\n",
    "def iscolab():  # pragma: no cover\n",
    "    !pip install torchsynth\n",
    "    return \"google.colab\" in str(get_ipython())\n",
    "\n",
    "\n",
    "def isnotebook():  # pragma: no cover\n",
    "    try:\n",
    "        if iscolab():\n",
    "            return True\n",
    "        shell = get_ipython().__class__.__name__\n",
    "        if shell == \"ZMQInteractiveShell\":\n",
    "            return True  # Jupyter notebook or qtconsole\n",
    "        elif shell == \"TerminalInteractiveShell\":\n",
    "            return False  # Terminal running IPython\n",
    "        else:\n",
    "            return False  # Other type (?)\n",
    "    except NameError:\n",
    "        return False  # Probably standard Python interprete\n",
    "\n",
    "\n",
    "print(f\"isnotebook = {isnotebook()}\")"
   ]
  },
  {
   "cell_type": "code",
   "execution_count": null,
   "metadata": {
    "lines_to_end_of_cell_marker": 2
   },
   "outputs": [],
   "source": [
    "from typing import Optional\n",
    "\n",
    "import torch\n",
    "import IPython.display as ipd\n",
    "\n",
    "from torchsynth.module import (\n",
    "    ADSR,\n",
    "    ControlRateUpsample,\n",
    "    MonophonicKeyboard,\n",
    "    SquareSawVCO,\n",
    "    VCA,\n",
    ")\n",
    "from torchsynth.synth import AbstractSynth\n",
    "from torchsynth.config import SynthConfig, BASE_REPRODUCIBLE_BATCH_SIZE"
   ]
  },
  {
   "cell_type": "markdown",
   "metadata": {
    "lines_to_next_cell": 2
   },
   "source": [
    "## Creating the SimpleSynth class\n",
    "\n",
    "All synths in torchsynth derive from `AbstractSynth`, which\n",
    "provides helpful functionality for managing children modules and parameters.\n",
    "\n",
    "There are two steps involved in creating a class that derives from `AbstractSynth`:\n",
    "   1. Define the modules that will be used in the `__init__` method\n",
    "   2. Define how modules are connected in the `output` method"
   ]
  },
  {
   "cell_type": "code",
   "execution_count": null,
   "metadata": {},
   "outputs": [],
   "source": [
    "class SimpleSynth(AbstractSynth):\n",
    "    \"\"\"\n",
    "    A Simple Synthesizer with a SquareSaw oscillator\n",
    "    and an ADSR modulating the amplitude\n",
    "\n",
    "    Args:\n",
    "        synthconfig: Synthesizer configuration that defines the\n",
    "            batch_size, buffer_size, and sample_rate among other\n",
    "            variables that control synthesizer functioning\n",
    "    \"\"\"\n",
    "\n",
    "    def __init__(self, synthconfig: Optional[SynthConfig] = None):\n",
    "\n",
    "        # Make sure to call __init__ in the parent AbstractSynth\n",
    "        super().__init__(synthconfig=synthconfig)\n",
    "\n",
    "        # These are all the modules that we are going to use.\n",
    "        # Pass in a list of tuples with (name, SynthModule,\n",
    "        # optional params dict) after we add them we will be\n",
    "        # able to access them as attributes with the same name.\n",
    "        self.add_synth_modules(\n",
    "            [\n",
    "                (\"keyboard\", MonophonicKeyboard),\n",
    "                (\"adsr\", ADSR),\n",
    "                (\"upsample\", ControlRateUpsample),\n",
    "                (\"vco\", SquareSawVCO),\n",
    "                (\"vca\", VCA),\n",
    "            ]\n",
    "        )\n",
    "\n",
    "    def output(self) -> torch.Tensor:\n",
    "        \"\"\"\n",
    "        This is called when we trigger the synth. We link up\n",
    "        all the individual modules and pass the outputs through\n",
    "        to the output of this method.\n",
    "        \"\"\"\n",
    "        # Keyboard is parameter module, it returns parameter\n",
    "        # values for the midi_f0 note value and the duration\n",
    "        # that note is held for.\n",
    "        midi_f0, note_on_duration = self.keyboard()\n",
    "\n",
    "        # The amplitude envelope is generated based on note duration\n",
    "        envelope = self.adsr(note_on_duration)\n",
    "\n",
    "        # The envelope that we get from ADSR is at the control rate,\n",
    "        # which is by default 100x less than the sample rate. This\n",
    "        # reduced control rate is used for performance reasons.\n",
    "        # We need to upsample the envelope prior to use with the VCO output.\n",
    "        envelope = self.upsample(envelope)\n",
    "\n",
    "        # Generate SquareSaw output at frequency for the midi note\n",
    "        out = self.vco(midi_f0)\n",
    "\n",
    "        # Apply the amplitude envelope to the oscillator output\n",
    "        out = self.vca(out, envelope)\n",
    "\n",
    "        return out"
   ]
  },
  {
   "cell_type": "markdown",
   "metadata": {},
   "source": [
    "That's out simple synth! Let's test it out now.\n",
    "\n",
    "If we instantiate SimpleSynth without passing in a SynthConfig object then it will\n",
    "create one with the default options. We don't need to render a full batch size for\n",
    "this example, so let's use the smallest batch size that will support reproducible\n",
    "output. All the parameters in a synth are randomly assigned values, with reprodcible\n",
    "mode on, we pass a batch_id value into our synth when calling it. The same sounds\n",
    "will always be returned for the same batch_id."
   ]
  },
  {
   "cell_type": "code",
   "execution_count": null,
   "metadata": {},
   "outputs": [],
   "source": [
    "# Create SynthConfig with smallest reproducible batch size.\n",
    "# Reprodicible mode is on by default.\n",
    "synthconfig = SynthConfig(batch_size=BASE_REPRODUCIBLE_BATCH_SIZE)\n",
    "synth = SimpleSynth(synthconfig)\n",
    "\n",
    "# If you have access to a GPU.\n",
    "if torch.cuda.is_available():\n",
    "    synth.to(\"cuda\")"
   ]
  },
  {
   "cell_type": "markdown",
   "metadata": {},
   "source": [
    "Now, let's make some sounds! We just call synth with a batch_id."
   ]
  },
  {
   "cell_type": "code",
   "execution_count": null,
   "metadata": {},
   "outputs": [],
   "source": [
    "audio, parameters, is_train = synth(0)\n",
    "\n",
    "print(\n",
    "    f\"Created {audio.shape[0]} synthesizer sounds \"\n",
    "    f\"that are each {audio.shape[1]} samples long\"\n",
    ")"
   ]
  },
  {
   "cell_type": "markdown",
   "metadata": {},
   "source": [
    "Let's listen to some of the sounds we made"
   ]
  },
  {
   "cell_type": "code",
   "execution_count": null,
   "metadata": {},
   "outputs": [],
   "source": [
    "for i in range(audio.shape[0] // 4):\n",
    "    ipd.display(ipd.Audio(audio[i].cpu().numpy(), rate=int(synth.sample_rate.item())))"
   ]
  },
  {
   "cell_type": "markdown",
   "metadata": {},
   "source": [
    "That's it for now -- Happy Patching!"
   ]
  }
 ],
 "metadata": {
  "jupytext": {
   "cell_metadata_filter": "-all",
   "main_language": "python",
   "notebook_metadata_filter": "-all"
  },
  "kernelspec": {
   "display_name": "Python 3",
   "language": "python",
   "name": "python3"
  },
  "language_info": {
   "codemirror_mode": {
    "name": "ipython",
    "version": 3
   },
   "file_extension": ".py",
   "mimetype": "text/x-python",
   "name": "python",
   "nbconvert_exporter": "python",
   "pygments_lexer": "ipython3",
   "version": "3.8.5"
  }
 },
 "nbformat": 4,
 "nbformat_minor": 4
}
